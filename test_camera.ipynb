{
 "cells": [
  {
   "cell_type": "code",
   "execution_count": 8,
   "metadata": {
    "collapsed": true
   },
   "outputs": [],
   "source": [
    "from lidar import Lidar_Segment\n",
    "import pandas as pd\n",
    "import numpy as np\n",
    "import cv2"
   ]
  },
  {
   "cell_type": "code",
   "execution_count": 9,
   "metadata": {
    "collapsed": false
   },
   "outputs": [
    {
     "name": "stdout",
     "output_type": "stream",
     "text": [
      "Help on built-in function stereoRectify in module cv2:\n",
      "\n",
      "stereoRectify(...)\n",
      "    stereoRectify(cameraMatrix1, distCoeffs1, cameraMatrix2, distCoeffs2, imageSize, R, T[, R1[, R2[, P1[, P2[, Q[, flags[, alpha[, newImageSize]]]]]]]]) -> R1, R2, P1, P2, Q, validPixROI1, validPixROI2\n",
      "\n"
     ]
    }
   ],
   "source": [
    "lidar_pts = pd.read_csv('./data/lidar.csv', delimiter=' ', header=None).values\n",
    "Lidar = Lidar_Segment(lidar_pts, 30, 0.9)\n",
    "Lidar.segment_data()\n",
    "help(cv2.stereoRectify)"
   ]
  },
  {
   "cell_type": "code",
   "execution_count": 5,
   "metadata": {
    "collapsed": false
   },
   "outputs": [
    {
     "name": "stdout",
     "output_type": "stream",
     "text": [
      "21\n",
      "1943\n",
      "220\n",
      "2131\n",
      "1035\n",
      "1880\n",
      "219\n",
      "189\n",
      "1089\n",
      "67\n",
      "596\n",
      "208\n",
      "45\n",
      "159\n",
      "314\n",
      "52\n",
      "45\n",
      "146\n",
      "40\n",
      "63\n",
      "42\n",
      "36\n",
      "220\n"
     ]
    }
   ],
   "source": [
    "print len(Lidar.boards_set)\n",
    "for i in Lidar.boards_set:\n",
    "    print len(i)\n",
    "# check segmentation result\n",
    "set_no = 1\n",
    "range_output = open('../lidar-cam-calibration/range_no.txt', 'w')\n",
    "for i in Lidar.boards_set[set_no]:\n",
    "    range_output.write(str(i) + \"\\n\")\n",
    "print len(Lidar.boards_set[set_no])\n",
    "range_output.close()"
   ]
  },
  {
   "cell_type": "code",
   "execution_count": null,
   "metadata": {
    "collapsed": true
   },
   "outputs": [],
   "source": []
  },
  {
   "cell_type": "code",
   "execution_count": null,
   "metadata": {
    "collapsed": true
   },
   "outputs": [],
   "source": []
  }
 ],
 "metadata": {
  "kernelspec": {
   "display_name": "Python 2",
   "language": "python",
   "name": "python2"
  },
  "language_info": {
   "codemirror_mode": {
    "name": "ipython",
    "version": 2
   },
   "file_extension": ".py",
   "mimetype": "text/x-python",
   "name": "python",
   "nbconvert_exporter": "python",
   "pygments_lexer": "ipython2",
   "version": "2.7.6"
  }
 },
 "nbformat": 4,
 "nbformat_minor": 0
}
