{
 "cells": [
  {
   "cell_type": "code",
   "execution_count": 1,
   "metadata": {
    "collapsed": true
   },
   "outputs": [],
   "source": [
    "from corner import Corner_Detection\n",
    "from checkerboard import Board_Recovery\n",
    "from camera import Camera_Calibration\n",
    "import cv2\n",
    "import numpy as np\n",
    "import matplotlib.pyplot as plt\n"
   ]
  },
  {
   "cell_type": "code",
   "execution_count": 2,
   "metadata": {
    "collapsed": false,
    "scrolled": true
   },
   "outputs": [
    {
     "name": "stdout",
     "output_type": "stream",
     "text": [
      "Image 0:\n",
      "Find corners...\n",
      "Recover checkerboard patterns...\n",
      "Image 1:\n",
      "Find corners...\n",
      "Recover checkerboard patterns...\n",
      "match image 1 to 0\n",
      "reference image has 10 boards\n",
      "target image has 10 boards\n",
      "[ 0.  1.  2.  3.  4.  5.  6.  8.  7.  9.]\n",
      "[ 0.  1.  0.  0.  0.  0.  0.  0.  0.  0.]\n"
     ]
    }
   ],
   "source": [
    "img = []\n",
    "img.append(cv2.imread('./data/left_0202.jpg'))\n",
    "img.append(cv2.imread('./data/right_0202.jpg'))\n",
    "camera = Camera_Calibration(img, 0.07699375)  # 0.08m distance from one corner to next corner\n",
    "# camera = Camera_Calibration(img, 0.08)  # 0.08m distance from one corner to next corner\n",
    "camera.match_cali()"
   ]
  },
  {
   "cell_type": "code",
   "execution_count": 28,
   "metadata": {
    "collapsed": false
   },
   "outputs": [],
   "source": [
    "pts_3d_output = '/home/bolunzhang/workspace/pcl_cloudViewer/planes_recovery.txt'\n",
    "temp_pts_boards = np.array(camera.boards_pts_set).reshape(-1, 3)\n",
    "np.savetxt(pts_3d_output, temp_pts_boards)"
   ]
  },
  {
   "cell_type": "code",
   "execution_count": 5,
   "metadata": {
    "collapsed": false
   },
   "outputs": [
    {
     "name": "stdout",
     "output_type": "stream",
     "text": [
      "21\n",
      "1943\n",
      "220\n",
      "2131\n",
      "1035\n",
      "1880\n",
      "219\n",
      "189\n",
      "1089\n",
      "67\n",
      "596\n",
      "208\n",
      "45\n",
      "159\n",
      "314\n",
      "52\n",
      "45\n",
      "146\n",
      "40\n",
      "63\n",
      "42\n",
      "36\n",
      "220\n"
     ]
    }
   ],
   "source": [
    "print len(Lidar.boards_set)\n",
    "for i in Lidar.boards_set:\n",
    "    print len(i)\n",
    "# check segmentation result\n",
    "set_no = 1\n",
    "range_output = open('../lidar-cam-calibration/range_no.txt', 'w')\n",
    "for i in Lidar.boards_set[set_no]:\n",
    "    range_output.write(str(i) + \"\\n\")\n",
    "print len(Lidar.boards_set[set_no])\n",
    "range_output.close()"
   ]
  },
  {
   "cell_type": "code",
   "execution_count": null,
   "metadata": {
    "collapsed": true
   },
   "outputs": [],
   "source": []
  },
  {
   "cell_type": "code",
   "execution_count": null,
   "metadata": {
    "collapsed": true
   },
   "outputs": [],
   "source": []
  }
 ],
 "metadata": {
  "kernelspec": {
   "display_name": "Python 2",
   "language": "python",
   "name": "python2"
  },
  "language_info": {
   "codemirror_mode": {
    "name": "ipython",
    "version": 2
   },
   "file_extension": ".py",
   "mimetype": "text/x-python",
   "name": "python",
   "nbconvert_exporter": "python",
   "pygments_lexer": "ipython2",
   "version": "2.7.6"
  }
 },
 "nbformat": 4,
 "nbformat_minor": 0
}
