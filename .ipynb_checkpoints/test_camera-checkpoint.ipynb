{
 "cells": [
  {
   "cell_type": "code",
   "execution_count": 1,
   "metadata": {
    "collapsed": true
   },
   "outputs": [],
   "source": [
    "from corner import Corner_Detection\n",
    "from checkerboard import Board_Recovery\n",
    "from camera import Camera_Calibration\n",
    "import cv2\n",
    "import numpy as np\n",
    "import matplotlib.pyplot as plt\n"
   ]
  },
  {
   "cell_type": "code",
   "execution_count": 2,
   "metadata": {
    "collapsed": false,
    "scrolled": true
   },
   "outputs": [
    {
     "name": "stdout",
     "output_type": "stream",
     "text": [
      "Image 0:\n",
      "Find corners...\n",
      "Recover checkerboard patterns...\n",
      "Image 1:\n",
      "Find corners...\n",
      "Recover checkerboard patterns...\n",
      "match image 1 to 0\n",
      "reference image has 10 boards\n",
      "target image has 10 boards\n",
      "[ 0.  1.  2.  3.  4.  5.  6.  8.  7.  9.]\n",
      "[ 0.  1.  0.  0.  0.  0.  0.  0.  0.  0.]\n"
     ]
    }
   ],
   "source": [
    "img = []\n",
    "img.append(cv2.imread('./data/left_0202.jpg'))\n",
    "img.append(cv2.imread('./data/right_0202.jpg'))\n",
    "camera = Camera_Calibration(img, 0.07699375)  # 0.08m distance from one corner to next corner\n",
    "# camera = Camera_Calibration(img, 0.08)  # 0.08m distance from one corner to next corner\n",
    "camera.match_cali()"
   ]
  },
  {
   "cell_type": "code",
   "execution_count": 14,
   "metadata": {
    "collapsed": false
   },
   "outputs": [
    {
     "name": "stdout",
     "output_type": "stream",
     "text": [
      "[[ 2.34171009  0.32565916  4.28416252]\n",
      " [ 2.38777351  0.32168838  4.23642302]\n",
      " [ 2.4114871   0.3136296   4.14631414]\n",
      " [ 2.43571281  0.30506665  4.05693483]\n",
      " [ 2.47241759  0.29851276  3.99408126]\n",
      " [ 2.50381804  0.29092103  3.92357469]\n",
      " [ 2.52603412  0.28219363  3.83650446]\n",
      " [ 2.56029153  0.27474752  3.77216864]\n",
      " [ 2.3187604   0.38876507  4.26443481]\n",
      " [ 2.35584831  0.38463625  4.20040131]\n",
      " [ 2.38310766  0.37657157  4.11402893]\n",
      " [ 2.41353488  0.36929101  4.04024696]\n",
      " [ 2.44286275  0.36099872  3.96222281]\n",
      " [ 2.47443581  0.35369003  3.89247417]\n",
      " [ 2.50613141  0.34482861  3.82056165]\n",
      " [ 2.5320859   0.33627945  3.74316883]\n",
      " [ 2.29142976  0.45450509  4.23930454]\n",
      " [ 2.32277894  0.44714457  4.16234446]\n",
      " [ 2.36300921  0.4422279   4.10317755]\n",
      " [ 2.39062381  0.43327683  4.02079582]\n",
      " [ 2.42219782  0.42582947  3.9497273 ]\n",
      " [ 2.45465636  0.41765815  3.87915254]\n",
      " [ 2.48187041  0.40894741  3.8005507 ]\n",
      " [ 2.51239228  0.40037608  3.72878408]\n",
      " [ 2.26474738  0.51855958  4.21427679]\n",
      " [ 2.29960442  0.51282847  4.14369917]\n",
      " [ 2.32722282  0.50304836  4.0600009 ]\n",
      " [ 2.36672306  0.49737009  4.00102282]\n",
      " [ 2.39092064  0.48764879  3.91481614]\n",
      " [ 2.42821574  0.48118687  3.85375667]\n",
      " [ 2.45473862  0.47121173  3.77362537]\n",
      " [ 2.48365355  0.46222341  3.70031881]\n",
      " [ 2.24063325  0.583821    4.19190788]\n",
      " [ 2.27099895  0.57541406  4.11346817]\n",
      " [ 2.30447364  0.56801468  4.04294395]\n",
      " [ 2.33673429  0.56104404  3.97094774]\n",
      " [ 2.36855054  0.55233836  3.89795947]\n",
      " [ 2.39968204  0.54330945  3.82510328]\n",
      " [ 2.43033457  0.53523701  3.75452352]\n",
      " [ 2.45919919  0.52475744  3.67885876]\n",
      " [ 2.21560192  0.64821225  4.1719799 ]\n",
      " [ 2.25352001  0.64245152  4.10732603]\n",
      " [ 2.279737    0.63395458  4.02057934]\n",
      " [ 2.31069708  0.62492168  3.94613099]\n",
      " [ 2.34447479  0.61634827  3.87721896]\n",
      " [ 2.37557149  0.60696137  3.80701995]\n",
      " [ 2.39916682  0.59595388  3.72055745]\n",
      " [ 2.42831254  0.58730805  3.64725518]]\n"
     ]
    }
   ],
   "source": [
    "pts_3d_output = '/home/bolunzhang/workspace/pcl_cloudViewer/planes_recovery.txt'\n"
   ]
  },
  {
   "cell_type": "code",
   "execution_count": 5,
   "metadata": {
    "collapsed": false
   },
   "outputs": [
    {
     "name": "stdout",
     "output_type": "stream",
     "text": [
      "21\n",
      "1943\n",
      "220\n",
      "2131\n",
      "1035\n",
      "1880\n",
      "219\n",
      "189\n",
      "1089\n",
      "67\n",
      "596\n",
      "208\n",
      "45\n",
      "159\n",
      "314\n",
      "52\n",
      "45\n",
      "146\n",
      "40\n",
      "63\n",
      "42\n",
      "36\n",
      "220\n"
     ]
    }
   ],
   "source": [
    "print len(Lidar.boards_set)\n",
    "for i in Lidar.boards_set:\n",
    "    print len(i)\n",
    "# check segmentation result\n",
    "set_no = 1\n",
    "range_output = open('../lidar-cam-calibration/range_no.txt', 'w')\n",
    "for i in Lidar.boards_set[set_no]:\n",
    "    range_output.write(str(i) + \"\\n\")\n",
    "print len(Lidar.boards_set[set_no])\n",
    "range_output.close()"
   ]
  },
  {
   "cell_type": "code",
   "execution_count": null,
   "metadata": {
    "collapsed": true
   },
   "outputs": [],
   "source": []
  },
  {
   "cell_type": "code",
   "execution_count": null,
   "metadata": {
    "collapsed": true
   },
   "outputs": [],
   "source": []
  }
 ],
 "metadata": {
  "kernelspec": {
   "display_name": "Python 2",
   "language": "python",
   "name": "python2"
  },
  "language_info": {
   "codemirror_mode": {
    "name": "ipython",
    "version": 2
   },
   "file_extension": ".py",
   "mimetype": "text/x-python",
   "name": "python",
   "nbconvert_exporter": "python",
   "pygments_lexer": "ipython2",
   "version": "2.7.6"
  }
 },
 "nbformat": 4,
 "nbformat_minor": 0
}
