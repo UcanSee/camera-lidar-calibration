{
 "cells": [
  {
   "cell_type": "code",
   "execution_count": 1,
   "metadata": {
    "collapsed": true
   },
   "outputs": [],
   "source": [
    "from lidar import Lidar_Segment\n",
    "import pandas as pd\n",
    "import numpy as np"
   ]
  },
  {
   "cell_type": "code",
   "execution_count": 28,
   "metadata": {
    "collapsed": true
   },
   "outputs": [],
   "source": [
    "lidar_pts = pd.read_csv('./data/lidar_converted.csv', delimiter=' ', header=None).values\n",
    "Lidar = Lidar_Segment(lidar_pts, 40, 0.9)\n",
    "Lidar.segment_data()"
   ]
  },
  {
   "cell_type": "code",
   "execution_count": 20,
   "metadata": {
    "collapsed": true
   },
   "outputs": [],
   "source": [
    "pt_output = '/home/bolunzhang/workspace/pcl_cloudViewer/plane1.pcd'\n",
    "i = 8\n",
    "np.savetxt(pt_output, Lidar.boards_pts_set[i])"
   ]
  },
  {
   "cell_type": "code",
   "execution_count": 32,
   "metadata": {
    "collapsed": false
   },
   "outputs": [
    {
     "name": "stdout",
     "output_type": "stream",
     "text": [
      "37\n",
      "[18608, 138, 151, 5338, 894, 1065, 185, 1185, 621, 757, 1694, 389, 230, 395, 451, 247, 280, 535, 260, 160, 269, 894, 299, 695, 296, 274, 231, 204, 194, 229, 158, 218, 151, 134, 329, 156, 320]\n",
      "38634\n"
     ]
    }
   ],
   "source": [
    "print len(Lidar.boards_pts_set)\n",
    "print [len(b) for b in Lidar.boards_pts_set]\n",
    "sum = 0\n",
    "for i in xrange(len(Lidar.boards_pts_set)):\n",
    "    b_s = Lidar.boards_pts_set[i]\n",
    "    sum += len(b_s)\n",
    "print sum"
   ]
  },
  {
   "cell_type": "code",
   "execution_count": 31,
   "metadata": {
    "collapsed": false
   },
   "outputs": [
    {
     "name": "stdout",
     "output_type": "stream",
     "text": [
      "38634\n"
     ]
    }
   ],
   "source": [
    "n_pts = 0\n",
    "lidar_file = open('/home/bolunzhang/workspace/pcl_cloudViewer/plane.pcd', 'w')\n",
    "for i in xrange(len(Lidar.boards_pts_set)):\n",
    "    b_s = Lidar.boards_pts_set[i]\n",
    "    for j in xrange(len(b_s)):\n",
    "        n_pts += 1\n",
    "        lidar_file.write(str(b_s[j, 0]) + \" \" + str(b_s[j, 1]) + \" \" + str(b_s[j, 2]) + \"\\n\")\n",
    "print n_pts"
   ]
  },
  {
   "cell_type": "code",
   "execution_count": 9,
   "metadata": {
    "collapsed": false
   },
   "outputs": [
    {
     "name": "stdout",
     "output_type": "stream",
     "text": [
      "[[1 2 3]\n",
      " [2 3 4]]\n"
     ]
    },
    {
     "data": {
      "text/plain": [
       "array([[2],\n",
       "       [3]])"
      ]
     },
     "execution_count": 9,
     "metadata": {},
     "output_type": "execute_result"
    }
   ],
   "source": [
    "a = np.array([[1,2,3],[2,3,4]])\n",
    "print(a)\n",
    "a[:, 1: 2]"
   ]
  },
  {
   "cell_type": "code",
   "execution_count": 52,
   "metadata": {
    "collapsed": false
   },
   "outputs": [
    {
     "name": "stdout",
     "output_type": "stream",
     "text": [
      "[[1]\n",
      " [0]]\n"
     ]
    }
   ],
   "source": [
    "from sklearn.neighbors import KDTree\n",
    "import numpy as np\n",
    "X = np.array([[-1,-1],[-2,-1],[-3,-2]])\n",
    "kdt = KDTree(X, leaf_size=30, metric='euclidean')\n",
    "(score, idx) = kdt.query([[-2,-0.5],[-1,-0.8]], k=1, return_distance=True)\n",
    "print(idx)"
   ]
  },
  {
   "cell_type": "code",
   "execution_count": 64,
   "metadata": {
    "collapsed": false
   },
   "outputs": [
    {
     "name": "stdout",
     "output_type": "stream",
     "text": [
      "[[12 23]\n",
      " [ 3  2]]\n",
      "[[12 23]\n",
      " [ 3  2]]\n"
     ]
    }
   ],
   "source": [
    "pt1 = np.array([[3.30692142,  0.99710354,  0.12406759]])\n",
    "pt2 = np.array([[3.20280593, 0.95966935,  0.05836085]])\n",
    "np.array([pt1, pt2])\n",
    "matrix_test = np.array([[12], [3], [10], [115]])\n",
    "print(matrix_test)\n",
    "print(matrix_test.A)"
   ]
  },
  {
   "cell_type": "code",
   "execution_count": null,
   "metadata": {
    "collapsed": false
   },
   "outputs": [],
   "source": []
  }
 ],
 "metadata": {
  "kernelspec": {
   "display_name": "Python 2",
   "language": "python",
   "name": "python2"
  },
  "language_info": {
   "codemirror_mode": {
    "name": "ipython",
    "version": 2
   },
   "file_extension": ".py",
   "mimetype": "text/x-python",
   "name": "python",
   "nbconvert_exporter": "python",
   "pygments_lexer": "ipython2",
   "version": "2.7.6"
  }
 },
 "nbformat": 4,
 "nbformat_minor": 0
}
